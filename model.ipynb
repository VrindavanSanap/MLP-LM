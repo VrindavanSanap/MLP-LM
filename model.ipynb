{
 "cells": [
  {
   "cell_type": "code",
   "execution_count": 1,
   "metadata": {},
   "outputs": [],
   "source": [
    "import torch\n",
    "import torch.nn as nn\n",
    "import torch.nn.functional as F\n",
    "import matplotlib.pyplot as plt"
   ]
  },
  {
   "cell_type": "code",
   "execution_count": 2,
   "metadata": {},
   "outputs": [],
   "source": [
    "import re\n",
    "import tqdm"
   ]
  },
  {
   "cell_type": "code",
   "execution_count": 17,
   "metadata": {},
   "outputs": [
    {
     "data": {
      "text/plain": [
       "tensor([2., 2., 2., 2., 2.], device='mps:0')"
      ]
     },
     "execution_count": 17,
     "metadata": {},
     "output_type": "execute_result"
    }
   ],
   "source": [
    "# Check that MPS is available\n",
    "if not torch.backends.mps.is_available():\n",
    "    if not torch.backends.mps.is_built():\n",
    "        print(\"MPS not available because the current PyTorch install was not \"\n",
    "              \"built with MPS enabled.\")\n",
    "    else:\n",
    "        print(\"MPS not available because the current MacOS version is not 12.3+ \"\n",
    "              \"and/or you do not have an MPS-enabled device on this machine.\")\n",
    "\n",
    "else:\n",
    "    mps_device = torch.device(\"mps\")\n",
    "\n",
    "    # Create a Tensor directly on the mps device\n",
    "    x = torch.ones(5, device=mps_device)\n",
    "    # Or\n",
    "    x = torch.ones(5, device=\"mps\")\n",
    "\n",
    "    # Any operation happens on the GPU\n",
    "    y = x * 2"
   ]
  },
  {
   "cell_type": "code",
   "execution_count": 3,
   "metadata": {},
   "outputs": [
    {
     "name": "stdout",
     "output_type": "stream",
     "text": [
      "I love 1 2  apple\n"
     ]
    }
   ],
   "source": [
    "def add_space_between_digits(text):\n",
    "    pattern = r'(\\d)'\n",
    "    return re.sub(pattern, r'\\1 ', text)\n",
    "\n",
    "# Example usage\n",
    "text = \"I love 12 apple\"\n",
    "result = add_space_between_digits(text)\n",
    "print(result)\n"
   ]
  },
  {
   "cell_type": "code",
   "execution_count": 4,
   "metadata": {},
   "outputs": [],
   "source": [
    "with open(\"brown.txt\") as f:\n",
    "    # brown = f.read().replace(\",\", \" , \").replace(\".\", \" .\").replace('\"', ' \" ').replace('-', ' - ').replace(\"'\", \" ' \").replace(\"#\", \" # \").replace(\"\\n\", \"\\n \").replace(\"&\", \" & \").replace(\"/\", \" / \").replace(\"   \", \" \").replace(\"  \", \" \")\n",
    "    # words = brown.split(\" \")\n",
    "    brown = add_space_between_digits(f.read())\n",
    "    words = re.findall(r'\\w+|\\S|\\n|\\d+', brown)\n"
   ]
  },
  {
   "cell_type": "code",
   "execution_count": 5,
   "metadata": {},
   "outputs": [
    {
     "name": "stdout",
     "output_type": "stream",
     "text": [
      "1333683\n"
     ]
    }
   ],
   "source": [
    "words = list(filter(lambda item: item != \"\", words))\n",
    "print(len(words))"
   ]
  },
  {
   "cell_type": "code",
   "execution_count": 15,
   "metadata": {},
   "outputs": [
    {
     "name": "stdout",
     "output_type": "stream",
     "text": [
      "Total words 1333683\n",
      "Number of unique words occurring at least 4 times 17508\n"
     ]
    }
   ],
   "source": [
    "\n",
    "unique_words = set(words)\n",
    "count = len(unique_words)\n",
    "\n",
    "word_counts = {}\n",
    "for word in words:\n",
    "    word_counts[word] = word_counts.get(word, 0) + 1\n",
    "unique_words = set(word for word, count in word_counts.items() if count >= 4)\n",
    "\n",
    "\n",
    "\n",
    "print(f\"Total words {len(words)}\")\n",
    "print(f\"Number of unique words occurring at least 4 times {len(unique_words)}\")\n"
   ]
  },
  {
   "cell_type": "code",
   "execution_count": null,
   "metadata": {},
   "outputs": [],
   "source": []
  }
 ],
 "metadata": {
  "kernelspec": {
   "display_name": "Python 3",
   "language": "python",
   "name": "python3"
  },
  "language_info": {
   "codemirror_mode": {
    "name": "ipython",
    "version": 3
   },
   "file_extension": ".py",
   "mimetype": "text/x-python",
   "name": "python",
   "nbconvert_exporter": "python",
   "pygments_lexer": "ipython3",
   "version": "3.9.6"
  },
  "orig_nbformat": 4
 },
 "nbformat": 4,
 "nbformat_minor": 2
}
